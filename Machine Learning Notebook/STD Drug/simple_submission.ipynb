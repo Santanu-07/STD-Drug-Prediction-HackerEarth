{
 "cells": [
  {
   "cell_type": "code",
   "execution_count": 1,
   "metadata": {},
   "outputs": [],
   "source": [
    "#Best Library for Regression\n",
    "\n",
    "import numpy as np\n",
    "import pandas as pd\n",
    "import matplotlib.pyplot as plt\n",
    "import seaborn as sns\n",
    "import gc\n",
    "import os\n",
    "\n",
    "%matplotlib inline\n",
    "\n",
    "plt.rcParams['figure.figsize'] = [15, 8]\n",
    "plt.style.use(\"fivethirtyeight\")\n",
    "\n",
    "import warnings\n",
    "warnings.simplefilter('ignore')\n",
    "\n",
    "pd.options.display.max_rows = 500\n",
    "pd.options.display.max_columns = 500\n",
    "from sklearn.pipeline import Pipeline\n",
    "from sklearn.model_selection import train_test_split, GridSearchCV, KFold\n",
    "\n",
    "from sklearn.preprocessing import LabelEncoder\n",
    "from sklearn.model_selection import cross_val_score, train_test_split, TimeSeriesSplit\n",
    "from sklearn.metrics import make_scorer, mean_squared_error\n",
    "\n",
    "# Regression\n",
    "from sklearn.linear_model import LinearRegression, Ridge, ElasticNet, Lasso\n",
    "from sklearn.naive_bayes import GaussianNB\n",
    "from sklearn.neighbors import KNeighborsRegressor\n",
    "from sklearn.svm import SVR\n",
    "from sklearn.tree import DecisionTreeRegressor, ExtraTreeRegressor\n",
    "from sklearn.ensemble import AdaBoostRegressor, RandomForestRegressor, BaggingRegressor, ExtraTreesRegressor, GradientBoostingRegressor, RandomForestRegressor, VotingRegressor\n",
    "\n",
    "import xgboost as xgb\n",
    "import lightgbm as lgb\n",
    "import catboost as cat"
   ]
  },
  {
   "cell_type": "code",
   "execution_count": 2,
   "metadata": {},
   "outputs": [],
   "source": [
    "def metric(y,y0):\n",
    "    assert len(y)==len(y0)\n",
    "    return 100-np.sqrt(np.mean(np.power(np.log1p(y)-np.log1p(y0),2)))\n",
    "\n",
    "def metric_lgb(y_pred,data):\n",
    "    y_true = data.get_label()\n",
    "    result = metric(y_true,y_pred)\n",
    "    \n",
    "    return '100-rmse', result,True"
   ]
  },
  {
   "cell_type": "code",
   "execution_count": 3,
   "metadata": {},
   "outputs": [],
   "source": [
    "train_1 = pd.read_csv(\"train.csv\")\n",
    "test_1 = pd.read_csv(\"test.csv\")\n",
    "\n",
    "# print(\"Train Shape : {}\\nTest Shape: {}\\nSub Shape: {}\".format(train_1.shape, test_1.shape))"
   ]
  },
  {
   "cell_type": "code",
   "execution_count": 4,
   "metadata": {},
   "outputs": [
    {
     "name": "stdout",
     "output_type": "stream",
     "text": [
      "Train :(32165, 8) , Test :(10760, 7)\n"
     ]
    }
   ],
   "source": [
    "print(f\"Train :{train_1.shape} , Test :{test_1.shape}\")"
   ]
  },
  {
   "cell_type": "code",
   "execution_count": 5,
   "metadata": {},
   "outputs": [],
   "source": [
    "train = train_1.copy()\n",
    "test = test_1.copy()"
   ]
  },
  {
   "cell_type": "code",
   "execution_count": 6,
   "metadata": {
    "scrolled": false
   },
   "outputs": [
    {
     "name": "stdout",
     "output_type": "stream",
     "text": [
      "<class 'pandas.core.frame.DataFrame'>\n",
      "RangeIndex: 32165 entries, 0 to 32164\n",
      "Data columns (total 8 columns):\n",
      "patient_id                    32165 non-null int64\n",
      "name_of_drug                  32165 non-null object\n",
      "use_case_for_drug             32165 non-null object\n",
      "review_by_patient             32165 non-null object\n",
      "effectiveness_rating          32165 non-null int64\n",
      "drug_approved_by_UIC          32165 non-null object\n",
      "number_of_times_prescribed    32165 non-null int64\n",
      "base_score                    32165 non-null float64\n",
      "dtypes: float64(1), int64(3), object(4)\n",
      "memory usage: 2.0+ MB\n"
     ]
    }
   ],
   "source": [
    "train.info()"
   ]
  },
  {
   "cell_type": "code",
   "execution_count": 7,
   "metadata": {},
   "outputs": [],
   "source": [
    "#Encoding date\n",
    "def day_date(df,col,drop=True):\n",
    "    df[col+'_day_']=df[col].dt.day\n",
    "    df[col+'_month_']=df[col].dt.month\n",
    "    df[col+'_year_']=df[col].dt.year\n",
    "    if drop:\n",
    "        df.drop([col],axis=1,inplace=True)\n",
    "    return df"
   ]
  },
  {
   "cell_type": "code",
   "execution_count": 8,
   "metadata": {},
   "outputs": [],
   "source": [
    "train['drug_approved_by_UIC'] = pd.to_datetime(train['drug_approved_by_UIC'])\n",
    "test['drug_approved_by_UIC'] = pd.to_datetime(test['drug_approved_by_UIC'])\n",
    "train = day_date(train,'drug_approved_by_UIC',True)\n",
    "test = day_date(test,'drug_approved_by_UIC',True)"
   ]
  },
  {
   "cell_type": "code",
   "execution_count": 9,
   "metadata": {},
   "outputs": [
    {
     "data": {
      "text/html": [
       "<div>\n",
       "<style scoped>\n",
       "    .dataframe tbody tr th:only-of-type {\n",
       "        vertical-align: middle;\n",
       "    }\n",
       "\n",
       "    .dataframe tbody tr th {\n",
       "        vertical-align: top;\n",
       "    }\n",
       "\n",
       "    .dataframe thead th {\n",
       "        text-align: right;\n",
       "    }\n",
       "</style>\n",
       "<table border=\"1\" class=\"dataframe\">\n",
       "  <thead>\n",
       "    <tr style=\"text-align: right;\">\n",
       "      <th></th>\n",
       "      <th>patient_id</th>\n",
       "      <th>name_of_drug</th>\n",
       "      <th>use_case_for_drug</th>\n",
       "      <th>review_by_patient</th>\n",
       "      <th>effectiveness_rating</th>\n",
       "      <th>number_of_times_prescribed</th>\n",
       "      <th>base_score</th>\n",
       "      <th>drug_approved_by_UIC_day_</th>\n",
       "      <th>drug_approved_by_UIC_month_</th>\n",
       "      <th>drug_approved_by_UIC_year_</th>\n",
       "    </tr>\n",
       "  </thead>\n",
       "  <tbody>\n",
       "    <tr>\n",
       "      <td>0</td>\n",
       "      <td>206461</td>\n",
       "      <td>Valsartan</td>\n",
       "      <td>Left Ventricular Dysfunction</td>\n",
       "      <td>\"It has no side effect, I take it in combinati...</td>\n",
       "      <td>9</td>\n",
       "      <td>27</td>\n",
       "      <td>8.022969</td>\n",
       "      <td>20</td>\n",
       "      <td>5</td>\n",
       "      <td>2012</td>\n",
       "    </tr>\n",
       "    <tr>\n",
       "      <td>1</td>\n",
       "      <td>95260</td>\n",
       "      <td>Guanfacine</td>\n",
       "      <td>ADHD</td>\n",
       "      <td>\"My son is halfway through his fourth week of ...</td>\n",
       "      <td>8</td>\n",
       "      <td>192</td>\n",
       "      <td>7.858458</td>\n",
       "      <td>27</td>\n",
       "      <td>4</td>\n",
       "      <td>2010</td>\n",
       "    </tr>\n",
       "    <tr>\n",
       "      <td>2</td>\n",
       "      <td>92703</td>\n",
       "      <td>Lybrel</td>\n",
       "      <td>Birth Control</td>\n",
       "      <td>\"I used to take another oral contraceptive, wh...</td>\n",
       "      <td>5</td>\n",
       "      <td>17</td>\n",
       "      <td>6.341969</td>\n",
       "      <td>14</td>\n",
       "      <td>12</td>\n",
       "      <td>2009</td>\n",
       "    </tr>\n",
       "    <tr>\n",
       "      <td>3</td>\n",
       "      <td>35696</td>\n",
       "      <td>Buprenorphine / naloxone</td>\n",
       "      <td>Opiate Dependence</td>\n",
       "      <td>\"Suboxone has completely turned my life around...</td>\n",
       "      <td>9</td>\n",
       "      <td>37</td>\n",
       "      <td>6.590176</td>\n",
       "      <td>27</td>\n",
       "      <td>11</td>\n",
       "      <td>2016</td>\n",
       "    </tr>\n",
       "    <tr>\n",
       "      <td>4</td>\n",
       "      <td>155963</td>\n",
       "      <td>Cialis</td>\n",
       "      <td>Benign Prostatic Hyperplasia</td>\n",
       "      <td>\"2nd day on 5mg started to work with rock hard...</td>\n",
       "      <td>2</td>\n",
       "      <td>43</td>\n",
       "      <td>6.144782</td>\n",
       "      <td>28</td>\n",
       "      <td>11</td>\n",
       "      <td>2015</td>\n",
       "    </tr>\n",
       "  </tbody>\n",
       "</table>\n",
       "</div>"
      ],
      "text/plain": [
       "   patient_id              name_of_drug             use_case_for_drug  \\\n",
       "0      206461                 Valsartan  Left Ventricular Dysfunction   \n",
       "1       95260                Guanfacine                          ADHD   \n",
       "2       92703                    Lybrel                 Birth Control   \n",
       "3       35696  Buprenorphine / naloxone             Opiate Dependence   \n",
       "4      155963                    Cialis  Benign Prostatic Hyperplasia   \n",
       "\n",
       "                                   review_by_patient  effectiveness_rating  \\\n",
       "0  \"It has no side effect, I take it in combinati...                     9   \n",
       "1  \"My son is halfway through his fourth week of ...                     8   \n",
       "2  \"I used to take another oral contraceptive, wh...                     5   \n",
       "3  \"Suboxone has completely turned my life around...                     9   \n",
       "4  \"2nd day on 5mg started to work with rock hard...                     2   \n",
       "\n",
       "   number_of_times_prescribed  base_score  drug_approved_by_UIC_day_  \\\n",
       "0                          27    8.022969                         20   \n",
       "1                         192    7.858458                         27   \n",
       "2                          17    6.341969                         14   \n",
       "3                          37    6.590176                         27   \n",
       "4                          43    6.144782                         28   \n",
       "\n",
       "   drug_approved_by_UIC_month_  drug_approved_by_UIC_year_  \n",
       "0                            5                        2012  \n",
       "1                            4                        2010  \n",
       "2                           12                        2009  \n",
       "3                           11                        2016  \n",
       "4                           11                        2015  "
      ]
     },
     "execution_count": 9,
     "metadata": {},
     "output_type": "execute_result"
    }
   ],
   "source": [
    "train.head()"
   ]
  },
  {
   "cell_type": "code",
   "execution_count": 10,
   "metadata": {},
   "outputs": [],
   "source": [
    "from sklearn.preprocessing import LabelEncoder\n",
    "le = LabelEncoder()\n",
    "li = ['name_of_drug','use_case_for_drug','review_by_patient']\n",
    "for i in li:\n",
    "    train[i] = le.fit_transform(train[i])\n",
    "    test[i] = le.fit_transform(test[i])"
   ]
  },
  {
   "cell_type": "code",
   "execution_count": 11,
   "metadata": {
    "scrolled": false
   },
   "outputs": [
    {
     "data": {
      "text/plain": [
       "patient_id                     32165\n",
       "name_of_drug                    2220\n",
       "use_case_for_drug                636\n",
       "review_by_patient              30121\n",
       "effectiveness_rating              10\n",
       "number_of_times_prescribed       303\n",
       "base_score                      1383\n",
       "drug_approved_by_UIC_day_         31\n",
       "drug_approved_by_UIC_month_       12\n",
       "drug_approved_by_UIC_year_        10\n",
       "dtype: int64"
      ]
     },
     "execution_count": 11,
     "metadata": {},
     "output_type": "execute_result"
    }
   ],
   "source": [
    "train.nunique()"
   ]
  },
  {
   "cell_type": "code",
   "execution_count": 12,
   "metadata": {},
   "outputs": [],
   "source": [
    "Y= train['base_score']\n",
    "X = train.drop(['base_score'],axis=1)"
   ]
  },
  {
   "cell_type": "code",
   "execution_count": 14,
   "metadata": {},
   "outputs": [
    {
     "name": "stdout",
     "output_type": "stream",
     "text": [
      "Best alpha using built-in LassoCV: 1.165291\n",
      "Best score using built-in LassoCV: 0.119813\n",
      "Lasso picked 5 variables and eliminated the other 4 variables\n"
     ]
    },
    {
     "data": {
      "text/plain": [
       "Text(0.5, 1.0, 'Feature importance using Lasso Model')"
      ]
     },
     "execution_count": 14,
     "metadata": {},
     "output_type": "execute_result"
    },
    {
     "data": {
      "image/png": "[encoded data removed]",
      "text/plain": [
       "<Figure size 576x576 with 1 Axes>"
      ]
     },
     "metadata": {
      "needs_background": "light"
     },
     "output_type": "display_data"
    }
   ],
   "source": [
    "from sklearn.linear_model import LassoCV\n",
    "reg = LassoCV()\n",
    "reg.fit(X,Y)\n",
    "print(\"Best alpha using built-in LassoCV: %f\" % reg.alpha_)\n",
    "print(\"Best score using built-in LassoCV: %f\" %reg.score(X,Y))\n",
    "coef = pd.Series(reg.coef_, index = X.columns)\n",
    "print(\"Lasso picked \" + str(sum(coef != 0)) + \" variables and eliminated the other \" +  str(sum(coef == 0)) + \" variables\")\n",
    "\n",
    "imp_coef = coef.sort_values()\n",
    "import matplotlib\n",
    "matplotlib.rcParams['figure.figsize'] = (8,8)\n",
    "imp_coef.plot(kind = \"barh\")\n",
    "plt.title(\"Feature importance using Lasso Model\")"
   ]
  },
  {
   "cell_type": "code",
   "execution_count": 15,
   "metadata": {},
   "outputs": [],
   "source": [
    "dataset = [train,test]\n",
    "for x in dataset:\n",
    "    del x['patient_id']\n",
    "    del x['name_of_drug']\n",
    "    del x['review_by_patient']\n",
    "    del x['drug_approved_by_UIC_year_']\n",
    "    del x['drug_approved_by_UIC_month_']\n",
    "    del x['drug_approved_by_UIC_day_']\n",
    "    del x['use_case_for_drug']\n",
    "    "
   ]
  },
  {
   "cell_type": "code",
   "execution_count": 21,
   "metadata": {},
   "outputs": [],
   "source": [
    "Y= train['base_score']\n",
    "X = train.drop(['base_score'],axis=1)"
   ]
  },
  {
   "cell_type": "code",
   "execution_count": 22,
   "metadata": {
    "scrolled": false
   },
   "outputs": [
    {
     "name": "stdout",
     "output_type": "stream",
     "text": [
      "effectiveness_rating : 10\n",
      "number_of_times_prescribed : 303\n",
      "base_score : 1383\n"
     ]
    }
   ],
   "source": [
    "for i in train.columns:\n",
    "    print(f\"{i} : {train[i].nunique()}\")"
   ]
  },
  {
   "cell_type": "code",
   "execution_count": 23,
   "metadata": {},
   "outputs": [],
   "source": [
    "from sklearn.model_selection import train_test_split\n",
    "X_train, X_val, y_train, y_val = train_test_split(X,Y, test_size=0.3, random_state=42)"
   ]
  },
  {
   "cell_type": "markdown",
   "metadata": {},
   "source": [
    "## Feature Scaling"
   ]
  },
  {
   "cell_type": "code",
   "execution_count": null,
   "metadata": {},
   "outputs": [],
   "source": []
  },
  {
   "cell_type": "code",
   "execution_count": 26,
   "metadata": {},
   "outputs": [
    {
     "name": "stdout",
     "output_type": "stream",
     "text": [
      "[00:00:39] WARNING: /workspace/src/objective/regression_obj.cu:152: reg:linear is now deprecated in favor of reg:squarederror.\n",
      "[00:00:39] WARNING: /workspace/src/objective/regression_obj.cu:152: reg:linear is now deprecated in favor of reg:squarederror.\n",
      "[0]\tvalidation_0-rmse:5.74484\n",
      "Will train until validation_0-rmse hasn't improved in 50 rounds.\n",
      "[1]\tvalidation_0-rmse:5.1972\n",
      "[2]\tvalidation_0-rmse:4.70714\n",
      "[3]\tvalidation_0-rmse:4.26374\n",
      "[4]\tvalidation_0-rmse:3.86754\n",
      "[5]\tvalidation_0-rmse:3.51216\n",
      "[6]\tvalidation_0-rmse:3.19695\n",
      "[7]\tvalidation_0-rmse:2.91499\n",
      "[8]\tvalidation_0-rmse:2.66491\n",
      "[9]\tvalidation_0-rmse:2.44466\n",
      "[10]\tvalidation_0-rmse:2.24944\n",
      "[11]\tvalidation_0-rmse:2.07802\n",
      "[12]\tvalidation_0-rmse:1.92695\n",
      "[13]\tvalidation_0-rmse:1.79309\n",
      "[14]\tvalidation_0-rmse:1.67535\n",
      "[15]\tvalidation_0-rmse:1.56856\n",
      "[16]\tvalidation_0-rmse:1.47643\n",
      "[17]\tvalidation_0-rmse:1.40026\n",
      "[18]\tvalidation_0-rmse:1.33632\n",
      "[19]\tvalidation_0-rmse:1.27777\n",
      "[20]\tvalidation_0-rmse:1.22648\n",
      "[21]\tvalidation_0-rmse:1.18529\n",
      "[22]\tvalidation_0-rmse:1.14776\n",
      "[23]\tvalidation_0-rmse:1.1149\n",
      "[24]\tvalidation_0-rmse:1.08761\n",
      "[25]\tvalidation_0-rmse:1.06389\n",
      "[26]\tvalidation_0-rmse:1.04415\n",
      "[27]\tvalidation_0-rmse:1.01853\n",
      "[28]\tvalidation_0-rmse:1.00184\n",
      "[29]\tvalidation_0-rmse:0.982345\n",
      "[30]\tvalidation_0-rmse:0.970676\n",
      "[31]\tvalidation_0-rmse:0.947507\n",
      "[32]\tvalidation_0-rmse:0.938707\n",
      "[33]\tvalidation_0-rmse:0.929224\n",
      "[34]\tvalidation_0-rmse:0.911937\n",
      "[35]\tvalidation_0-rmse:0.904468\n",
      "[36]\tvalidation_0-rmse:0.889729\n",
      "[37]\tvalidation_0-rmse:0.881835\n",
      "[38]\tvalidation_0-rmse:0.876108\n",
      "[39]\tvalidation_0-rmse:0.871552\n",
      "[40]\tvalidation_0-rmse:0.855098\n",
      "[41]\tvalidation_0-rmse:0.851009\n",
      "[42]\tvalidation_0-rmse:0.848028\n",
      "[43]\tvalidation_0-rmse:0.837905\n",
      "[44]\tvalidation_0-rmse:0.834082\n",
      "[45]\tvalidation_0-rmse:0.825802\n",
      "[46]\tvalidation_0-rmse:0.809151\n",
      "[47]\tvalidation_0-rmse:0.805407\n",
      "[48]\tvalidation_0-rmse:0.802729\n",
      "[49]\tvalidation_0-rmse:0.800217\n",
      "[50]\tvalidation_0-rmse:0.788478\n",
      "[51]\tvalidation_0-rmse:0.785902\n",
      "[52]\tvalidation_0-rmse:0.784336\n",
      "[53]\tvalidation_0-rmse:0.774527\n",
      "[54]\tvalidation_0-rmse:0.760823\n",
      "[55]\tvalidation_0-rmse:0.754161\n",
      "[56]\tvalidation_0-rmse:0.741627\n",
      "[57]\tvalidation_0-rmse:0.735107\n",
      "[58]\tvalidation_0-rmse:0.73306\n",
      "[59]\tvalidation_0-rmse:0.722965\n",
      "[60]\tvalidation_0-rmse:0.717798\n",
      "[61]\tvalidation_0-rmse:0.715602\n",
      "[62]\tvalidation_0-rmse:0.707463\n",
      "[63]\tvalidation_0-rmse:0.703837\n",
      "[64]\tvalidation_0-rmse:0.702549\n",
      "[65]\tvalidation_0-rmse:0.69764\n",
      "[66]\tvalidation_0-rmse:0.695754\n",
      "[67]\tvalidation_0-rmse:0.693785\n",
      "[68]\tvalidation_0-rmse:0.68215\n",
      "[69]\tvalidation_0-rmse:0.675485\n",
      "[70]\tvalidation_0-rmse:0.665999\n",
      "[71]\tvalidation_0-rmse:0.664547\n",
      "[72]\tvalidation_0-rmse:0.661356\n",
      "[73]\tvalidation_0-rmse:0.658479\n",
      "[74]\tvalidation_0-rmse:0.650601\n",
      "[75]\tvalidation_0-rmse:0.645314\n",
      "[76]\tvalidation_0-rmse:0.637628\n",
      "[77]\tvalidation_0-rmse:0.632359\n",
      "[78]\tvalidation_0-rmse:0.630629\n",
      "[79]\tvalidation_0-rmse:0.628204\n",
      "[80]\tvalidation_0-rmse:0.62126\n",
      "[81]\tvalidation_0-rmse:0.619897\n",
      "[82]\tvalidation_0-rmse:0.614617\n",
      "[83]\tvalidation_0-rmse:0.60563\n",
      "[84]\tvalidation_0-rmse:0.604768\n",
      "[85]\tvalidation_0-rmse:0.600006\n",
      "[86]\tvalidation_0-rmse:0.592731\n",
      "[87]\tvalidation_0-rmse:0.590318\n",
      "[88]\tvalidation_0-rmse:0.586889\n",
      "[89]\tvalidation_0-rmse:0.584431\n",
      "[90]\tvalidation_0-rmse:0.583278\n",
      "[91]\tvalidation_0-rmse:0.577661\n",
      "[92]\tvalidation_0-rmse:0.576231\n",
      "[93]\tvalidation_0-rmse:0.572585\n",
      "[94]\tvalidation_0-rmse:0.570217\n",
      "[95]\tvalidation_0-rmse:0.566338\n",
      "[96]\tvalidation_0-rmse:0.563003\n",
      "[97]\tvalidation_0-rmse:0.55974\n",
      "[98]\tvalidation_0-rmse:0.55722\n",
      "[99]\tvalidation_0-rmse:0.556221\n"
     ]
    },
    {
     "data": {
      "text/plain": [
       "XGBRegressor(base_score=0.5, booster='gbtree', colsample_bylevel=1,\n",
       "             colsample_bynode=1, colsample_bytree=1, gamma=0,\n",
       "             importance_type='gain', learning_rate=0.1, max_delta_step=0,\n",
       "             max_depth=3, min_child_weight=1, missing=None, n_estimators=100,\n",
       "             n_jobs=1, nthread=None, objective='reg:linear', random_state=0,\n",
       "             reg_alpha=0, reg_lambda=1, scale_pos_weight=1, seed=None,\n",
       "             silent=None, subsample=1, verbosity=1)"
      ]
     },
     "execution_count": 26,
     "metadata": {},
     "output_type": "execute_result"
    }
   ],
   "source": [
    "import xgboost\n",
    "\n",
    "xg = xgboost.XGBRegressor()\n",
    "xg.fit(X_train, y_train)\n",
    "pred_val_xg = xg.predict(X_val)\n",
    "\n",
    "# If you want to use early stopping\n",
    "# Here you may want to split the training data again\n",
    "# instead of using X_val to avoid overfitting the the validation set\n",
    "xg.fit(X_train,\n",
    "       y_train,\n",
    "       early_stopping_rounds=50,\n",
    "       eval_metric=\"rmse\",\n",
    "       eval_set=[(X_val, y_val)])"
   ]
  },
  {
   "cell_type": "code",
   "execution_count": 30,
   "metadata": {},
   "outputs": [],
   "source": [
    "y_pred = xg.predict(test)"
   ]
  },
  {
   "cell_type": "code",
   "execution_count": 31,
   "metadata": {},
   "outputs": [],
   "source": [
    "ans = []"
   ]
  },
  {
   "cell_type": "code",
   "execution_count": 32,
   "metadata": {},
   "outputs": [],
   "source": [
    "for i in range(len(y_pred)):\n",
    "    ans.append(round(y_pred[i],2))"
   ]
  },
  {
   "cell_type": "code",
   "execution_count": null,
   "metadata": {},
   "outputs": [],
   "source": []
  },
  {
   "cell_type": "code",
   "execution_count": 33,
   "metadata": {},
   "outputs": [],
   "source": [
    "sub = test_1['patient_id']"
   ]
  },
  {
   "cell_type": "code",
   "execution_count": 34,
   "metadata": {},
   "outputs": [],
   "source": [
    "sub = pd.DataFrame(sub)"
   ]
  },
  {
   "cell_type": "code",
   "execution_count": 35,
   "metadata": {},
   "outputs": [],
   "source": [
    "sub['base_score']=ans"
   ]
  },
  {
   "cell_type": "code",
   "execution_count": 36,
   "metadata": {},
   "outputs": [],
   "source": [
    "sub.to_csv(\"submission.csv\",index=False)"
   ]
  },
  {
   "cell_type": "code",
   "execution_count": 37,
   "metadata": {},
   "outputs": [
    {
     "data": {
      "text/html": [
       "<div>\n",
       "<style scoped>\n",
       "    .dataframe tbody tr th:only-of-type {\n",
       "        vertical-align: middle;\n",
       "    }\n",
       "\n",
       "    .dataframe tbody tr th {\n",
       "        vertical-align: top;\n",
       "    }\n",
       "\n",
       "    .dataframe thead th {\n",
       "        text-align: right;\n",
       "    }\n",
       "</style>\n",
       "<table border=\"1\" class=\"dataframe\">\n",
       "  <thead>\n",
       "    <tr style=\"text-align: right;\">\n",
       "      <th></th>\n",
       "      <th>patient_id</th>\n",
       "      <th>base_score</th>\n",
       "    </tr>\n",
       "  </thead>\n",
       "  <tbody>\n",
       "    <tr>\n",
       "      <td>0</td>\n",
       "      <td>163740</td>\n",
       "      <td>8.39</td>\n",
       "    </tr>\n",
       "    <tr>\n",
       "      <td>1</td>\n",
       "      <td>39293</td>\n",
       "      <td>8.37</td>\n",
       "    </tr>\n",
       "    <tr>\n",
       "      <td>2</td>\n",
       "      <td>208087</td>\n",
       "      <td>5.99</td>\n",
       "    </tr>\n",
       "    <tr>\n",
       "      <td>3</td>\n",
       "      <td>23295</td>\n",
       "      <td>5.59</td>\n",
       "    </tr>\n",
       "    <tr>\n",
       "      <td>4</td>\n",
       "      <td>97013</td>\n",
       "      <td>6.55</td>\n",
       "    </tr>\n",
       "    <tr>\n",
       "      <td>...</td>\n",
       "      <td>...</td>\n",
       "      <td>...</td>\n",
       "    </tr>\n",
       "    <tr>\n",
       "      <td>10755</td>\n",
       "      <td>151266</td>\n",
       "      <td>6.15</td>\n",
       "    </tr>\n",
       "    <tr>\n",
       "      <td>10756</td>\n",
       "      <td>139347</td>\n",
       "      <td>4.17</td>\n",
       "    </tr>\n",
       "    <tr>\n",
       "      <td>10757</td>\n",
       "      <td>159999</td>\n",
       "      <td>7.16</td>\n",
       "    </tr>\n",
       "    <tr>\n",
       "      <td>10758</td>\n",
       "      <td>130945</td>\n",
       "      <td>5.41</td>\n",
       "    </tr>\n",
       "    <tr>\n",
       "      <td>10759</td>\n",
       "      <td>113712</td>\n",
       "      <td>7.75</td>\n",
       "    </tr>\n",
       "  </tbody>\n",
       "</table>\n",
       "<p>10760 rows × 2 columns</p>\n",
       "</div>"
      ],
      "text/plain": [
       "       patient_id  base_score\n",
       "0          163740        8.39\n",
       "1           39293        8.37\n",
       "2          208087        5.99\n",
       "3           23295        5.59\n",
       "4           97013        6.55\n",
       "...           ...         ...\n",
       "10755      151266        6.15\n",
       "10756      139347        4.17\n",
       "10757      159999        7.16\n",
       "10758      130945        5.41\n",
       "10759      113712        7.75\n",
       "\n",
       "[10760 rows x 2 columns]"
      ]
     },
     "execution_count": 37,
     "metadata": {},
     "output_type": "execute_result"
    }
   ],
   "source": [
    "sub"
   ]
  },
  {
   "cell_type": "code",
   "execution_count": null,
   "metadata": {},
   "outputs": [],
   "source": []
  },
  {
   "cell_type": "code",
   "execution_count": null,
   "metadata": {},
   "outputs": [],
   "source": []
  },
  {
   "cell_type": "code",
   "execution_count": null,
   "metadata": {},
   "outputs": [],
   "source": []
  }
 ],
 "metadata": {
  "kernelspec": {
   "display_name": "Python 3",
   "language": "python",
   "name": "python3"
  },
  "language_info": {
   "codemirror_mode": {
    "name": "ipython",
    "version": 3
   },
   "file_extension": ".py",
   "mimetype": "text/x-python",
   "name": "python",
   "nbconvert_exporter": "python",
   "pygments_lexer": "ipython3",
   "version": "3.7.4"
  }
 },
 "nbformat": 4,
 "nbformat_minor": 2
}
